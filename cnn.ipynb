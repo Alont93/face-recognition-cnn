{
 "cells": [
  {
   "cell_type": "code",
   "execution_count": null,
   "metadata": {
    "scrolled": true
   },
   "outputs": [
    {
     "name": "stdout",
     "output_type": "stream",
     "text": [
      "50.0 percent of epoch 1 complete\r"
     ]
    }
   ],
   "source": [
    "%run 'cnn.py'"
   ]
  },
  {
   "cell_type": "code",
   "execution_count": null,
   "metadata": {},
   "outputs": [],
   "source": [
    "!ls"
   ]
  },
  {
   "cell_type": "code",
   "execution_count": null,
   "metadata": {
    "colab": {},
    "colab_type": "code",
    "id": "FgJJSMzz9Z9s"
   },
   "outputs": [],
   "source": [
    "from baseline_cnn import *\n",
    "import torch\n",
    "from torch.autograd import Variable\n",
    "import torch.nn as nn\n",
    "import torch.nn.functional as func\n",
    "import torch.nn.init as torch_init\n",
    "import torch.optim as optim\n",
    "\n",
    "# Data utils and dataloader\n",
    "import torchvision\n",
    "from torchvision import transforms\n",
    "import matplotlib.pyplot as plt\n",
    "\n",
    "# Custom utils file\n",
    "from utils import evaluate"
   ]
  },
  {
   "cell_type": "code",
   "execution_count": null,
   "metadata": {
    "colab": {},
    "colab_type": "code",
    "id": "I2zG_gzb9nXB"
   },
   "outputs": [],
   "source": [
    "def weights_init(m):\n",
    "    classname = m.__class__.__name__\n",
    "    if classname.find('Conv') != -1:\n",
    "        nn.init.normal_(m.weight.data, 0.0, 0.02)\n",
    "    elif classname.find('BatchNorm') != -1:\n",
    "        nn.init.normal_(m.weight.data, 1.0, 0.02)\n",
    "        nn.init.constant_(m.bias.data, 0)"
   ]
  },
  {
   "cell_type": "code",
   "execution_count": null,
   "metadata": {
    "colab": {},
    "colab_type": "code",
    "id": "yNLkDijm9oJF"
   },
   "outputs": [],
   "source": [
    "# Check if your system supports CUDA\n",
    "use_cuda = torch.cuda.is_available()\n",
    "\n",
    "# Setup GPU optimization if CUDA is supported\n",
    "if use_cuda:\n",
    "    computing_device = torch.device(\"cuda\")\n",
    "    extras = {\"num_workers\": 1, \"pin_memory\": True}\n",
    "    print(\"CUDA is supported\")\n",
    "else: # Otherwise, train on the CPU\n",
    "    computing_device = torch.device(\"cpu\")\n",
    "    extras = False\n",
    "    print(\"CUDA NOT supported\")"
   ]
  },
  {
   "cell_type": "markdown",
   "metadata": {},
   "source": [
    "## Load Train, Validation and Test data"
   ]
  },
  {
   "cell_type": "code",
   "execution_count": null,
   "metadata": {},
   "outputs": [],
   "source": [
    "transform = transforms.Compose([transforms.Resize(224), transforms.CenterCrop(224), transforms.ToTensor()])\n",
    "dataset = loader('mini_train.csv','./datasets/cs154-fa19-public/',transform=transform)\n",
    "testdataset = loader(\"mini_test.csv\", './datasets/cs154-fa19-public/', transform=transform)\n",
    "\n",
    "batch_size = 64\n",
    "validation_split = .2\n",
    "shuffle_dataset = True\n",
    "random_seed= 42\n",
    "\n",
    "# Creating data indices for training and validation splits:\n",
    "dataset_size = len(dataset)\n",
    "indices = list(range(dataset_size))\n",
    "# indices = list(range((int)(dataset_size/4))) # smmall part for experiments \n",
    "split = int(np.floor(validation_split * dataset_size))\n",
    "if shuffle_dataset :\n",
    "    np.random.seed(random_seed)\n",
    "    np.random.shuffle(indices)\n",
    "train_indices, val_indices = indices[split:], indices[:split]\n",
    "\n",
    "# Creating PT data samplers and loaders:\n",
    "train_sampler = SubsetRandomSampler(train_indices)\n",
    "valid_sampler = SubsetRandomSampler(val_indices)\n",
    "\n",
    "train_loader = torch.utils.data.DataLoader(dataset, batch_size=batch_size, \n",
    "                                           sampler=train_sampler)\n",
    "validation_loader = torch.utils.data.DataLoader(dataset, batch_size=batch_size,\n",
    "                                                sampler=valid_sampler)\n",
    "test_loader = torch.utils.data.DataLoader(testdataset, batch_size=len(testdataset),\n",
    "                                        shuffle=False)"
   ]
  },
  {
   "cell_type": "markdown",
   "metadata": {},
   "source": [
    "## Show a sample from the dataset"
   ]
  },
  {
   "cell_type": "code",
   "execution_count": null,
   "metadata": {},
   "outputs": [],
   "source": [
    "def imshow(img):\n",
    "    img = img / 2 + 0.5  # unnormalize\n",
    "    npimg = img.numpy()\n",
    "    plt.imshow(np.transpose(npimg, (1, 2, 0)))\n",
    "    plt.show()\n",
    "\n",
    "# Get some random training images\n",
    "dataiter = iter(train_loader)\n",
    "images, labels = dataiter.next() # We get batch_size number of images by calling .next()\n",
    "\n",
    "# Places the images in a grid\n",
    "imshow(torchvision.utils.make_grid(images))\n",
    "print(labels)"
   ]
  },
  {
   "cell_type": "markdown",
   "metadata": {},
   "source": [
    "## Create the network"
   ]
  },
  {
   "cell_type": "code",
   "execution_count": null,
   "metadata": {
    "colab": {},
    "colab_type": "code",
    "id": "ZUUyS8AQ9r0p"
   },
   "outputs": [],
   "source": [
    "NUM_CLASSES = 11\n",
    "net=Nnet(num_classes=NUM_CLASSES).to(computing_device)\n",
    "net.apply(weights_init)\n",
    "print(net)"
   ]
  },
  {
   "cell_type": "markdown",
   "metadata": {},
   "source": [
    "## Define the Lossfunction and the Optimizer"
   ]
  },
  {
   "cell_type": "code",
   "execution_count": null,
   "metadata": {},
   "outputs": [],
   "source": [
    "#criterion = nn.CrossEntropyLoss(weight=dataset.get_class_weights()) # Weighted Loss\n",
    "criterion = nn.CrossEntropyLoss()\n",
    "\n",
    "# Pass the weights of the network (net.parameters) to the optimizer\n",
    "optimizer = optim.Adam(net.parameters(), lr=0.0001, weight_decay=0.0005) "
   ]
  },
  {
   "cell_type": "markdown",
   "metadata": {},
   "source": [
    "## Train the network"
   ]
  },
  {
   "cell_type": "code",
   "execution_count": null,
   "metadata": {
    "colab": {},
    "colab_type": "code",
    "id": "A--k99Kl9vDO",
    "scrolled": true
   },
   "outputs": [],
   "source": [
    "# Track the loss across training\n",
    "train_epoch_losses = []\n",
    "validation_epoch_losses = []\n",
    "train_batch_losses = []\n",
    "validation_batch_losses = []\n",
    "avg_minibatch_loss = []\n",
    "N = 50 # Intervall of average minibatch loss reporting.\n",
    "n_epochs = 2\n",
    "PATH = \"./cnn_celeb.pth\"  # Where to save the model\n",
    "\n",
    "for epoch in range(n_epochs):\n",
    "    N_minibatch_loss = 0.0\n",
    "\n",
    "    # Get the next minibatch of images, labels for training\n",
    "    for minibatch_count, (images, labels) in enumerate(train_loader, 0):\n",
    "        fraction_done = round(minibatch_count/len(dataset)*100, 3)\n",
    "        print(\"{} percent of epoch {} complete\".format(fraction_done, epoch + 1), end=\"\\r\")\n",
    "        # Zero out the stored gradient (buffer) from the previous iteration\n",
    "        optimizer.zero_grad()\n",
    "        # Put the minibatch data in CUDA Tensors and run on the GPU if supported\n",
    "        images, labels = images.to(computing_device), labels.to(computing_device)\n",
    "        # Perform the forward pass through the network and compute the loss\n",
    "        outputs = net(images)\n",
    "        \n",
    "        loss = criterion(outputs, labels) # If we are using Cross Entropy, this is doing Softmax\n",
    "        # Automagically compute the gradients and backpropagate the loss through the network\n",
    "        loss.backward()\n",
    "\n",
    "        # Update the weights\n",
    "        optimizer.step()\n",
    "        # Add this iteration's loss to the total_loss\n",
    "        train_batch_losses.append(loss.item())\n",
    "        N_minibatch_loss += loss\n",
    "\n",
    "        if minibatch_count % N == 49:\n",
    "            # Print the loss averaged over the last N mini-batches\n",
    "            N_minibatch_loss /= N\n",
    "            print('Epoch %d, average minibatch %d loss: %.3f' % (epoch + 1, minibatch_count + 1, N_minibatch_loss))\n",
    "            # Add the averaged loss over N minibatches and reset the counter\n",
    "            avg_minibatch_loss.append(N_minibatch_loss)\n",
    "            N_minibatch_loss = 0.0\n",
    "\n",
    "    print(\"Finished\", epoch + 1, \"epochs of training\")\n",
    "    print(\"Saving model...\")\n",
    "    torch.save(net.state_dict(), PATH)\n",
    "    print(\"Done.\")\n",
    "\n",
    "    # save train loss\n",
    "    train_epoch_loss = np.average(np.array(train_batch_losses))\n",
    "    train_batch_losses = []\n",
    "    train_epoch_losses.append(train_epoch_loss)\n",
    "\n",
    "    with torch.no_grad():\n",
    "        # validation implementation\n",
    "        for minibatch_count, (images, labels) in enumerate(validation_loader, 0):\n",
    "            # Put the validation minibatch data in CUDA Tensors and run on the GPU if supported\n",
    "            images, labels = images.to(computing_device), labels.to(computing_device)\n",
    "            # Perform the forward pass through the network and compute the loss\n",
    "            outputs = net(images)\n",
    "\n",
    "            validation_batch_loss = criterion(outputs, labels)\n",
    "            validation_batch_losses.append(validation_batch_loss)\n",
    "\n",
    "        epoch_validation_loss = np.average(np.array(validation_batch_losses))\n",
    "        validation_batch_losses = []\n",
    "        validation_epoch_losses.append(epoch_validation_loss)\n",
    "\n",
    "    print('Epoch %d, validation loss: %.3f' % (epoch + 1, epoch_validation_loss))"
   ]
  },
  {
   "cell_type": "markdown",
   "metadata": {},
   "source": [
    "## Test the model"
   ]
  },
  {
   "cell_type": "code",
   "execution_count": null,
   "metadata": {},
   "outputs": [],
   "source": [
    "with torch.no_grad():\n",
    "    for images, labels in test_loader: # Remember they come in batches\n",
    "        # Since we are not doing this through criterion, we must add softmax our self\n",
    "        outputs = func.softmax(net(images), dim=1) \n",
    "        _, predicted = torch.max(outputs.data, 1)\n",
    "        \n",
    "        predicted = func.one_hot(predicted, num_classes=NUM_CLASSES).type(torch.FloatTensor)\n",
    "        labels = func.one_hot(labels, num_classes=NUM_CLASSES).type(torch.FloatTensor)\n",
    "        evaluate(predicted, labels)\n"
   ]
  },
  {
   "cell_type": "markdown",
   "metadata": {},
   "source": [
    "## Plot loss"
   ]
  },
  {
   "cell_type": "code",
   "execution_count": null,
   "metadata": {},
   "outputs": [],
   "source": [
    "print(train_epoch_losses)\n",
    "print(validation_epoch_losses)\n",
    "\n",
    "plt.plot(train_epoch_losses, label=\"train loss\")\n",
    "plt.plot(validation_epoch_losses, label=\"validation loss\")\n",
    "plt.xlabel(\"Epoch\")\n",
    "plt.ylabel(\"Cross Entropy Loss\")\n",
    "plt.title(\"Loss as a function of number of epochs\")\n",
    "plt.legend()\n",
    "plt.show()\n"
   ]
  },
  {
   "cell_type": "markdown",
   "metadata": {},
   "source": [
    "## Plot Weights"
   ]
  },
  {
   "cell_type": "code",
   "execution_count": null,
   "metadata": {},
   "outputs": [],
   "source": [
    "COLUMNS_IN_FIGURE = 10\n",
    "\n",
    "def plot_weights(model, layer):\n",
    "    weights = model.main._modules.get(str(layer)).weight.data.numpy()\n",
    "\n",
    "    # normalize weights\n",
    "    mean = np.mean(weights, axis=(1, 2), keepdims=True)\n",
    "    std = np.std(weights, axis=(1, 2), keepdims=True)\n",
    "    normalized_weighs = (weights - mean) / std\n",
    "\n",
    "    if not weights.shape[-1] == 3:\n",
    "        raise Exception(\"last dim needs to be 3\")\n",
    "    num_weights = normalized_weighs.shape[0]\n",
    "    num_rows = 1 + num_weights // COLUMNS_IN_FIGURE\n",
    "    fig = plt.figure(figsize=(COLUMNS_IN_FIGURE, num_rows))\n",
    "    for i in range(normalized_weighs.shape[0]):\n",
    "        sub = fig.add_subplot(num_rows, COLUMNS_IN_FIGURE, i + 1)\n",
    "        sub.axis('off')\n",
    "        sub.imshow(normalized_weighs[i])\n",
    "        sub.set_xticklabels([])\n",
    "        sub.set_yticklabels([])\n",
    "\n",
    "    plt.show()\n",
    "\n",
    "    \n",
    "    \n",
    "\n",
    "plot_weights(net, 0)\n",
    "plot_weights(net, 2)\n",
    "plot_weights(net, 5)"
   ]
  },
  {
   "cell_type": "code",
   "execution_count": null,
   "metadata": {},
   "outputs": [],
   "source": []
  }
 ],
 "metadata": {
  "colab": {
   "name": "cnn.ipynb",
   "provenance": []
  },
  "kernelspec": {
   "display_name": "Python 3",
   "language": "python",
   "name": "python3"
  },
  "language_info": {
   "codemirror_mode": {
    "name": "ipython",
    "version": 3
   },
   "file_extension": ".py",
   "mimetype": "text/x-python",
   "name": "python",
   "nbconvert_exporter": "python",
   "pygments_lexer": "ipython3",
   "version": "3.7.4"
  }
 },
 "nbformat": 4,
 "nbformat_minor": 1
}
